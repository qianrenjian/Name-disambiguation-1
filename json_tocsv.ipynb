{
 "cells": [
  {
   "cell_type": "code",
   "execution_count": 4,
   "metadata": {},
   "outputs": [],
   "source": [
    "import codecs\n",
    "import json\n",
    "from os.path import join\n",
    "import numpy as np\n",
    "import os\n",
    "import pandas as pd\n",
    "import csv\n",
    "import time\n",
    "\n",
    "################# Load and Save Data ################\n",
    "\n",
    "def load_json(rfdir, rfname):\n",
    "    with codecs.open(join(rfdir, rfname), 'r', encoding='utf-8') as rf:\n",
    "        return json.load(rf)\n",
    "\n",
    "\n",
    "def dump_json(obj, wfpath, wfname, indent=None):\n",
    "    with codecs.open(join(wfpath, wfname), 'w', encoding='utf-8') as wf:\n",
    "        json.dump(obj, wf, ensure_ascii=False, indent=indent)\n",
    "        \n",
    "def merge_dict(number,rfname):\n",
    "    result = {}\n",
    "    for i in range(0,number):\n",
    "        data =  load_json(\"output\", rfname+\"_{}.json\".format(i))\n",
    "        result.update(data)\n",
    "    print('sci论文数量大于50作者消歧之前的作者数量：%d'%(len(result)))\n",
    "    return result\n",
    "    \n",
    "def json_tocsv(result_50,rfname,number):\n",
    "    wf =csv.writer(open('result_csv/'+rfname+'_{}.csv'.format(number),'w',encoding='utf-8',newline=''))\n",
    "    for k,author in enumerate(result_50):\n",
    "        for i, paper in enumerate(result_50[author]):\n",
    "            for j,paper_id in enumerate(paper):\n",
    "                author_id = author+': '+'1001018'+str(i)\n",
    "                wf.writerow((paper_id,author,author_id))  \n"
   ]
  },
  {
   "cell_type": "code",
   "execution_count": 5,
   "metadata": {},
   "outputs": [
    {
     "name": "stdout",
     "output_type": "stream",
     "text": [
      "sci论文数量大于50作者消歧之前的作者数量：286912\n",
      "sci论文数量大于50作者消歧之后的作者数量：823962\n",
      "sci论文数量大于50作者消歧涉及到的论文数量：37692681\n"
     ]
    }
   ],
   "source": [
    "if __name__ == '__main__':\n",
    "    result_50 = merge_dict(10,\"sci_result_50_all\")\n",
    "    print('sci论文数量大于50作者消歧之后的作者数量：%d'%(sum([len(result_50[author]) for author in result_50])))\n",
    "    print('sci论文数量大于50作者消歧涉及到的论文数量：%d'%(sum([len(pp) for author in result_50 for pp in result_50[author]])))\n",
    "#     json_tocsv(result_50,'sci_result_50_all')\n",
    "\n",
    "#     for i in range(0,16):\n",
    "#         data =  load_json(\"output\", \"sci_result_50_all\"+\"_{}.json\".format(i))\n",
    "#         json_tocsv(data,'sci_result_10_50_all',i)\n",
    "        "
   ]
  }
 ],
 "metadata": {
  "kernelspec": {
   "display_name": "disamb",
   "language": "python",
   "name": "disamb"
  },
  "language_info": {
   "codemirror_mode": {
    "name": "ipython",
    "version": 3
   },
   "file_extension": ".py",
   "mimetype": "text/x-python",
   "name": "python",
   "nbconvert_exporter": "python",
   "pygments_lexer": "ipython3",
   "version": "3.6.9"
  }
 },
 "nbformat": 4,
 "nbformat_minor": 2
}
