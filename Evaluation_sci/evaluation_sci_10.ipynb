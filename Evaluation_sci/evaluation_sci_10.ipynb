{
 "cells": [
  {
   "cell_type": "code",
   "execution_count": 1,
   "metadata": {},
   "outputs": [
    {
     "name": "stdout",
     "output_type": "stream",
     "text": [
      "初始化模型评测...\n",
      "单个人名：abbas_h | 聚类F1：1.000000\n",
      "单个人名：aalkjaer_christian | 聚类F1：0.947368\n",
      "单个人名：aamir_muhammad | 聚类F1：0.591750\n",
      "单个人名：aarabi_mahmoud | 聚类F1：1.000000\n",
      "单个人名：abel_robert | 聚类F1：0.933333\n",
      "单个人名：abe_yuki | 聚类F1：0.909091\n",
      "单个人名：abbasi_s_a | 聚类F1：1.000000\n",
      "单个人名：abe_kazuo | 聚类F1：0.934783\n",
      "单个人名：abdullah | 聚类F1：0.555556\n",
      "单个人名：abad_j | 聚类F1：0.727273\n",
      "最终聚类消歧的F1评测得分为：0.859915\n"
     ]
    }
   ],
   "source": [
    "# -*- coding: utf-8 -*-\n",
    "import json\n",
    "from os.path import join\n",
    "import pickle\n",
    "import codecs\n",
    "import pandas as pd\n",
    "import os\n",
    "from macro_pairwise_f1 import Macro_pairwise_f1\n",
    "\n",
    "\n",
    "################# Load and Save Data ################\n",
    "\n",
    "def load_json(rfdir, rfname):\n",
    "    with codecs.open(join(rfdir, rfname), 'r', encoding='utf-8') as rf:\n",
    "        return json.load(rf)\n",
    "\n",
    "def dump_json(obj, wfpath, wfname, indent=None):\n",
    "    with codecs.open(join(wfpath, wfname), 'w', encoding='utf-8') as wf:\n",
    "        json.dump(obj, wf, ensure_ascii=False, indent=indent)\n",
    "\n",
    "def datafram_todict(test_name_20_50):\n",
    "    test_disamb_human = {}\n",
    "    for name in test_name_20_50:\n",
    "        name_paper = pd.read_excel('data/test_disamb_human.xls',encoding = 'utf_8',sheet_name = name)\n",
    "        test_disamb_human[name] = []\n",
    "        for num in name_paper:\n",
    "            category_num =  list(name_paper[num].dropna(how=all))\n",
    "            test_disamb_human[name].append(category_num)\n",
    "    return test_disamb_human\n",
    "\n",
    "\n",
    "\n",
    "if __name__ ==\"__main__\":       \n",
    "    test_disamb_algorithm1 = load_json('data', 'test_disamb_algorithm1.json')\n",
    "    test_disamb_algorithm = load_json('data', 'test_disamb_algorithm')\n",
    "    test_name_20_50 =['abbas_h','aalkjaer_christian','aamir_muhammad','aarabi_mahmoud','abel_robert','abe_yuki','abbasi_s_a','abe_kazuo','abdullah','abad_j']   \n",
    "    test_disamb_human = datafram_todict(test_name_20_50)\n",
    "    \n",
    "    ##模型评测，macro_pairwise_f1\n",
    "    F1_test = Macro_pairwise_f1()\n",
    "    F1_score = F1_test.macro_pairwise_f1(test_disamb_algorithm1,test_disamb_human)\n",
    "    \n",
    "    \n",
    "\n"
   ]
  }
 ],
 "metadata": {
  "kernelspec": {
   "display_name": "disamb",
   "language": "python",
   "name": "disamb"
  },
  "language_info": {
   "codemirror_mode": {
    "name": "ipython",
    "version": 3
   },
   "file_extension": ".py",
   "mimetype": "text/x-python",
   "name": "python",
   "nbconvert_exporter": "python",
   "pygments_lexer": "ipython3",
   "version": "3.6.9"
  }
 },
 "nbformat": 4,
 "nbformat_minor": 2
}
